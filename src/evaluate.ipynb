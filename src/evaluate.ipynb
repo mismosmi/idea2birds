{
 "cells": [
  {
   "cell_type": "markdown",
   "metadata": {
    "run_control": {
     "frozen": false,
     "read_only": false
    }
   },
   "source": [
    "# Bird Simulation Evaluation Script"
   ]
  },
  {
   "cell_type": "markdown",
   "metadata": {
    "run_control": {
     "frozen": false,
     "read_only": false
    }
   },
   "source": [
    "## Imports & Preparations"
   ]
  },
  {
   "cell_type": "code",
   "execution_count": 1,
   "metadata": {
    "collapsed": true,
    "run_control": {
     "frozen": false,
     "read_only": false
    }
   },
   "outputs": [],
   "source": [
    "import numpy as np\n",
    "import scipy as sp\n",
    "import birds\n",
    "import argparse\n",
    "import matplotlib.pyplot as plt\n",
    "from matplotlib.path import Path\n",
    "from matplotlib.animation import FuncAnimation\n",
    "from matplotlib.collections import PathCollection\n",
    "from IPython.display import HTML\n",
    "from scipy.optimize import curve_fit\n",
    "#%matplotlib ipympl\n",
    "%matplotlib inline\n",
    "%config InlineBackend.figure_format = 'retina'"
   ]
  },
  {
   "cell_type": "markdown",
   "metadata": {
    "run_control": {
     "frozen": false,
     "read_only": false
    }
   },
   "source": [
    "## Figure output Settings"
   ]
  },
  {
   "cell_type": "code",
   "execution_count": 2,
   "metadata": {
    "collapsed": true,
    "run_control": {
     "frozen": false,
     "read_only": false
    }
   },
   "outputs": [],
   "source": [
    "figpath = '../img/'\n",
    "figwidth = 4 #figure width in inches\n",
    "figsize = (figwidth,figwidth*2.5/4)"
   ]
  },
  {
   "cell_type": "markdown",
   "metadata": {
    "run_control": {
     "frozen": false,
     "read_only": false
    }
   },
   "source": [
    "## Run with default Settings"
   ]
  },
  {
   "cell_type": "code",
   "execution_count": null,
   "metadata": {
    "collapsed": true,
    "run_control": {
     "frozen": false,
     "read_only": false
    },
    "scrolled": true
   },
   "outputs": [],
   "source": [
    "frames = 1000\n",
    "birds.param_record = False\n",
    "birds.trace = None\n",
    "birds.flock = birds.Flock()\n",
    "fig = plt.figure(figsize=(5, 5*birds.flock.args['height']/birds.flock.args['width']), facecolor=\"white\")\n",
    "ax = fig.add_axes([0.0, 0.0, 1.0, 1.0], aspect=1, frameon=False)\n",
    "birds.collection = birds.MarkerCollection(birds.flock.args['n'])\n",
    "ax.add_collection(birds.collection._collection)\n",
    "ax.set_xlim(0, birds.flock.args['width'])\n",
    "ax.set_ylim(0, birds.flock.args['height'])\n",
    "ax.set_xticks([])\n",
    "ax.set_yticks([])\n",
    "\n",
    "animation = FuncAnimation(fig, birds.update, interval=10, frames=frames)\n",
    "HTML(animation.to_html5_video())\n"
   ]
  },
  {
   "cell_type": "markdown",
   "metadata": {
    "run_control": {
     "frozen": false,
     "read_only": false
    }
   },
   "source": [
    "## Find moving phase"
   ]
  },
  {
   "cell_type": "markdown",
   "metadata": {
    "run_control": {
     "frozen": false,
     "read_only": false
    }
   },
   "source": [
    "## Run with varying Eta"
   ]
  },
  {
   "cell_type": "code",
   "execution_count": 14,
   "metadata": {
    "run_control": {
     "frozen": false,
     "read_only": false
    }
   },
   "outputs": [
    {
     "name": "stdout",
     "output_type": "stream",
     "text": [
      "Has been run.\n"
     ]
    }
   ],
   "source": [
    "res = 20\n",
    "time = 1500\n",
    "averaging_time = 1000\n",
    "repeat = 3\n",
    "rho=4\n",
    "Eta = np.linspace(0.,5.,res)\n",
    "N = [40,100,400]\n",
    "\n",
    "def avg_with_error(f, avg_time):\n",
    "    var = np.zeros(avg_time)\n",
    "    va_avg = 0\n",
    "    for t in range(avg_time):\n",
    "        va_tmp = f.get_va()\n",
    "        va_avg += va_tmp\n",
    "        var[t] = va_tmp\n",
    "        f.run()\n",
    "    va_avg /= avg_time\n",
    "    var = np.sum((var-va_avg)**2 / avg_time)\n",
    "    return va_avg, var\n",
    "        \n",
    "        \n",
    "\n",
    "va = np.zeros((len(N),res))\n",
    "vas = np.zeros(repeat)\n",
    "errorbars = np.zeros_like(va)\n",
    "variance = np.zeros(repeat)\n",
    "for c,n in enumerate(N):\n",
    "    for i,eta in enumerate(Eta):\n",
    "        for j in range(repeat):\n",
    "            f = birds.Flock(n=n,eta=eta,rho=rho)\n",
    "            for t in range(time):\n",
    "                f.run()\n",
    "            va_avg, vari = avg_with_error(f, averaging_time)\n",
    "            vas[j] = va_avg\n",
    "            variance[j] = vari\n",
    "        va[c][i] = vas.sum()/repeat\n",
    "        errorbars[c][i] = np.sqrt(variance.sum()/repeat)\n",
    "        \n",
    "print('Has been run.')"
   ]
  },
  {
   "cell_type": "code",
   "execution_count": 39,
   "metadata": {
    "run_control": {
     "frozen": false,
     "read_only": false
    }
   },
   "outputs": [
    {
     "name": "stdout",
     "output_type": "stream",
     "text": [
      "[ 0.          0.27586207  0.55172414  0.82758621  1.10344828  1.37931034\n",
      "  1.65517241  1.93103448  2.20689655  2.48275862  2.75862069  3.03448276\n",
      "  3.31034483  3.5862069   3.86206897  4.13793103  4.4137931   4.68965517\n",
      "  4.96551724  5.24137931  5.51724138  5.79310345  6.06896552  6.34482759\n",
      "  6.62068966  6.89655172  7.17241379  7.44827586  7.72413793  8.        ]\n",
      "[ 0.97655204  0.73272548  0.48661571  0.81432589  0.5074891   0.51070998\n",
      "  0.56949235  0.49639655  0.30140368  0.30672112  0.31780546  0.16214359\n",
      "  0.17626402  0.072703    0.06632317  0.06316466  0.06265458  0.06404038\n",
      "  0.06520254  0.06628658  0.06696235  0.06740971  0.06857165  0.06968696\n",
      "  0.06912173  0.07163323  0.07216833  0.07557235  0.0737759   0.07306138]\n"
     ]
    }
   ],
   "source": [
    "print(Eta)\n",
    "print(va[0])"
   ]
  },
  {
   "cell_type": "markdown",
   "metadata": {
    "run_control": {
     "frozen": false,
     "read_only": false
    }
   },
   "source": [
    "### Fit $\\eta_c$"
   ]
  },
  {
   "cell_type": "code",
   "execution_count": 89,
   "metadata": {
    "run_control": {
     "frozen": false,
     "read_only": false
    }
   },
   "outputs": [
    {
     "name": "stdout",
     "output_type": "stream",
     "text": [
      "13\n",
      "[-0.02372724 -0.31098416 -0.72028056 -0.20539463 -0.67828005 -0.67195341\n",
      " -0.56300992 -0.70038017 -1.19930479 -1.18181636 -1.14631585 -1.81927298\n",
      " -1.73577231]\n",
      "[  1.07482851e+00   9.75927911e-01   8.66161530e-01   7.42843725e-01\n",
      "   6.02150888e-01   4.38371133e-01   2.42411176e-01  -1.54520768e-03\n",
      "  -3.24907879e-01  -8.05796758e-01  -1.76685354e+00   1.57897105e+01\n",
      "   1.27300046e+01]\n",
      "[ -2.20753713e-02  -3.18654849e-01  -8.31577644e-01  -2.76497770e-01\n",
      "  -1.12642871e+00  -1.53284138e+00  -2.32254111e+00   4.53259569e+02\n",
      "   3.69121484e+00   1.46664322e+00   6.48789401e-01  -1.15218894e-01\n",
      "  -1.36352842e-01]\n"
     ]
    }
   ],
   "source": [
    "# Define fit functions\n",
    "def finvsquare(x, sqwidth):\n",
    "    return 1-(x*sqwidth)**2\n",
    "\n",
    "def flin(x, m, b):\n",
    "    return m*x+b\n",
    "\n",
    "def fphase(x, eta_c, beta):\n",
    "    return (eta_c - x)**beta\n",
    "\n",
    "# find array index of eta_c as first approx to split fit in linear- and phase-relation-parts\n",
    "vamin = np.argmin(va[0])\n",
    "linparams = sp.optimize.curve_fit(flin,Eta[vamin:len(Eta)],va[0][vamin:len(va[0])],p0=[0.2,-0.5],sigma=errorbars[0][vamin:len(errorbars[0])])\n",
    "valin = flin(Eta,*linparams[0])\n",
    "eta_c_ind = np.where(np.absolute(va[0]-valin) < errorbars[0])[0][0]\n",
    "print(eta_c_ind)\n",
    "\n",
    "# fit it with square + line\n",
    "sqwidth = sp.optimize.curve_fit(finvsquare,Eta[0:eta_c_ind],va[0][0:eta_c_ind],p0=1/6,sigma=errorbars[0][0:eta_c_ind])\n",
    "linparams = sp.optimize.curve_fit(flin,Eta[eta_c_ind:len(Eta)],va[0][eta_c_ind:len(va[0])],p0=[0.2,-0.5],sigma=errorbars[0][eta_c_ind:len(errorbars[0])])\n",
    "\n",
    "# calculate second approx for eta_c from fit\n",
    "p,q = linparams[0][0]/sqwidth[0]**2,(linparams[0][1]-1)/sqwidth[0]**2\n",
    "eta_c_0 = -p/2 + np.sqrt((p/2)**2 - q)\n",
    "\n",
    "valog = np.log(va[0][0:eta_c_ind])\n",
    "etalog = np.log(eta_c_0-Eta[0:eta_c_ind],where=Eta[0:eta_c_ind] < eta_c_0)\n",
    "print(valog)\n",
    "print(etalog)\n",
    "print(valog/etalog)"
   ]
  },
  {
   "cell_type": "code",
   "execution_count": 74,
   "metadata": {
    "run_control": {
     "frozen": false,
     "read_only": false
    }
   },
   "outputs": [
    {
     "name": "stderr",
     "output_type": "stream",
     "text": [
      "/usr/lib/python3.6/site-packages/ipykernel/__main__.py:9: RuntimeWarning: invalid value encountered in power\n",
      "/usr/lib/python3.6/site-packages/scipy/optimize/minpack.py:779: OptimizeWarning: Covariance of the parameters could not be estimated\n",
      "  category=OptimizeWarning)\n"
     ]
    },
    {
     "data": {
      "text/plain": [
       "array([ 0.45])"
      ]
     },
     "execution_count": 74,
     "metadata": {},
     "output_type": "execute_result"
    }
   ],
   "source": [
    "# fit beta\n",
    "def fphase_temp(x, beta):\n",
    "    return fphase(x,eta_c_0,beta)\n",
    "beta_0 = sp.optimize.curve_fit(fphase_temp,Eta[0:eta_c_ind],va[0][0:eta_c_ind],p0=0.45,sigma=errorbars[0][0:eta_c_ind])[0]\n",
    "beta_0"
   ]
  },
  {
   "cell_type": "code",
   "execution_count": 18,
   "metadata": {
    "run_control": {
     "frozen": false,
     "read_only": false
    }
   },
   "outputs": [
    {
     "name": "stderr",
     "output_type": "stream",
     "text": [
      "/usr/lib/python3.6/site-packages/ipykernel/__main__.py:9: RuntimeWarning: invalid value encountered in power\n",
      "/usr/lib/python3.6/site-packages/scipy/optimize/minpack.py:779: OptimizeWarning: Covariance of the parameters could not be estimated\n",
      "  category=OptimizeWarning)\n"
     ]
    },
    {
     "data": {
      "text/plain": [
       "(array([ 3.5091865,  0.45     ]), array([[ inf,  inf],\n",
       "        [ inf,  inf]]))"
      ]
     },
     "execution_count": 18,
     "metadata": {},
     "output_type": "execute_result"
    }
   ],
   "source": [
    "# fit eta_c and beta using former fits as start values\n",
    "phaseparams = sp.optimize.curve_fit(fphase,Eta[0:vamin-1],va[0][0:vamin-1],p0=[eta_c_0,beta_0],sigma=errorbars[0][0:vamin-1])\n",
    "phaseparams"
   ]
  },
  {
   "cell_type": "markdown",
   "metadata": {
    "run_control": {
     "frozen": false,
     "read_only": false
    }
   },
   "source": [
    "### Plot $v_a$ over $\\eta$"
   ]
  },
  {
   "cell_type": "code",
   "execution_count": 15,
   "metadata": {
    "run_control": {
     "frozen": false,
     "read_only": false
    }
   },
   "outputs": [
    {
     "data": {
      "image/png": "[encoded data removed]",
      "text/plain": [
       "<matplotlib.figure.Figure at 0x7f0e269c09e8>"
      ]
     },
     "metadata": {
      "image/png": {
       "height": 184,
       "width": 275
      }
     },
     "output_type": "display_data"
    }
   ],
   "source": [
    "plt.figure(figsize=figsize)\n",
    "for c,n in enumerate(N):\n",
    "    plt.errorbar(Eta, va[c], yerr=errorbars[c], fmt='.', label=\"N=\"+str(n))\n",
    "#plt.plot(Eta,finvsquare(Eta,sqwidth[0]), label='Square Fit')\n",
    "#plt.plot(Eta,fphase(Eta,*phaseparams[0]), label='Phase relation Fit')\n",
    "#plt.plot(Eta,flin(Eta,*linparams[0]), label='linear Fit')\n",
    "\n",
    "plt.xlabel(\"$\\\\eta$\")\n",
    "plt.ylabel(\"$v_a$\")\n",
    "plt.xlim([0,5.5])\n",
    "plt.ylim([0,1])\n",
    "plt.legend()\n",
    "\n",
    "plt.savefig(figpath+'va_over_eta.eps')"
   ]
  },
  {
   "cell_type": "markdown",
   "metadata": {
    "run_control": {
     "frozen": false,
     "read_only": false
    }
   },
   "source": [
    "### Plot $v_a$ over $(\\eta_c - \\eta)/\\eta_c)$"
   ]
  },
  {
   "cell_type": "code",
   "execution_count": 16,
   "metadata": {
    "run_control": {
     "frozen": false,
     "read_only": false
    },
    "scrolled": false
   },
   "outputs": [
    {
     "name": "stdout",
     "output_type": "stream",
     "text": [
      "eta_c=4.5\n"
     ]
    },
    {
     "data": {
      "image/png": "[encoded data removed]",
      "text/plain": [
       "<matplotlib.figure.Figure at 0x7f0e266bb048>"
      ]
     },
     "metadata": {
      "image/png": {
       "height": 192,
       "width": 307
      }
     },
     "output_type": "display_data"
    }
   ],
   "source": [
    "plt.figure(figsize=figsize)\n",
    "plt.ylim(ymin=0.2)\n",
    "plt.xlim(xmin=0.01)\n",
    "eta_c = 4.5  # This is a guess of the critical eta value. There must be a better way of determining it\n",
    "for c,n in enumerate(N):\n",
    "    plt.plot( (eta_c-Eta)/eta_c, va[c],'.',label=\"N=\"+str(n))\n",
    "ca = plt.gca()\n",
    "ca.set_xscale('log')\n",
    "ca.set_yscale('log')\n",
    "plt.xlabel(\"$\\\\frac{\\\\eta_c - \\\\eta}{\\\\eta_c}$\")\n",
    "plt.ylabel(\"$v_a$\")\n",
    "\n",
    "\n",
    "\n",
    "x = (eta_c-Eta)/eta_c\n",
    "select = x > 0\n",
    "x = np.log(x[select])\n",
    "y = np.log(va[-1][select])\n",
    "coef = np.polyfit(x,y,1)\n",
    "plt.plot(np.logspace(-1,0,10), np.logspace(-1,0,10)**coef[0], label=\"$\\\\beta=$\"+str(coef[0]))\n",
    "plt.legend();\n",
    "\n",
    "# if you come up with a better naming scheme PLEASE change this\n",
    "plt.savefig(figpath+'va_over_etac_minus_eta_over_etac.eps')\n",
    "print('eta_c='+str(eta_c))"
   ]
  },
  {
   "cell_type": "markdown",
   "metadata": {
    "run_control": {
     "frozen": false,
     "read_only": false
    }
   },
   "source": [
    "## Run with varying density"
   ]
  },
  {
   "cell_type": "code",
   "execution_count": 19,
   "metadata": {
    "collapsed": true,
    "run_control": {
     "frozen": false,
     "read_only": false
    }
   },
   "outputs": [],
   "source": [
    "res = 15\n",
    "time = 1000\n",
    "averaging_time = 500\n",
    "repeat = 5\n",
    "eta = .3\n",
    "Rho = np.logspace(-3,0.2, res)\n",
    "N = [50]\n",
    "\n",
    "va = np.zeros((len(N), res))\n",
    "vas = np.zeros(repeat)\n",
    "errorbars = np.zeros_like(va)\n",
    "variance = np.zeros(repeat)\n",
    "for c,n in enumerate(N):\n",
    "    for i,rho in enumerate(Rho):\n",
    "        for j in range(repeat):\n",
    "            f = birds.Flock(n=n, eta=eta, rho=rho)\n",
    "            for t in range(time):\n",
    "                f.run()\n",
    "            va_avg, vari = avg_with_error(f, averaging_time)\n",
    "            vas[j] = va_avg\n",
    "            variance[j] = vari\n",
    "        va[c][i] = vas.sum()/repeat\n",
    "        errorbars[c][i] = np.sqrt(variance.sum()/repeat)\n"
   ]
  },
  {
   "cell_type": "code",
   "execution_count": 20,
   "metadata": {
    "run_control": {
     "frozen": false,
     "read_only": false
    }
   },
   "outputs": [
    {
     "data": {
      "image/png": "[encoded data removed]",
      "text/plain": [
       "<matplotlib.figure.Figure at 0x7f0e269e10b8>"
      ]
     },
     "metadata": {
      "image/png": {
       "height": 195,
       "width": 275
      }
     },
     "output_type": "display_data"
    }
   ],
   "source": [
    "plt.figure(figsize=figsize)\n",
    "for c,n in enumerate(N):\n",
    "    plt.errorbar(Rho, va[c], yerr=errorbars[c], fmt='.', label=\"N=\"+str(n))\n",
    "\n",
    "plt.xlabel(\"$\\\\rho$\")\n",
    "plt.ylabel(\"$v_a$\")\n",
    "plt.legend()\n",
    "plt.title(\"Alignment dependance on density\");\n",
    "\n",
    "plt.savefig(figpath+'va_over_rho.eps')"
   ]
  },
  {
   "cell_type": "markdown",
   "metadata": {
    "run_control": {
     "frozen": false,
     "read_only": false
    }
   },
   "source": [
    "## Run with varying angle\n",
    "\n",
    "This has to be done for low rho and eta. This should be evident from the graphs above as a high value of eta reduces the alignment going to almost zero.\n",
    "\n",
    "A high density causes more alignment, and thus if we attempt running with higher densities, they all align anyway."
   ]
  },
  {
   "cell_type": "code",
   "execution_count": 26,
   "metadata": {
    "run_control": {
     "frozen": false,
     "read_only": false
    }
   },
   "outputs": [
    {
     "data": {
      "image/png": "[encoded data removed]",
      "text/plain": [
       "<matplotlib.figure.Figure at 0x7f0e264cd978>"
      ]
     },
     "metadata": {
      "image/png": {
       "height": 278,
       "width": 387
      }
     },
     "output_type": "display_data"
    }
   ],
   "source": [
    "res = 20\n",
    "time = 1500\n",
    "averaging_time = 1000\n",
    "repeat = 3\n",
    "eta = 0.1\n",
    "Angle = np.linspace(1,180,res,dtype=int)\n",
    "Rho=np.logspace(-3, 0, 5)\n",
    "n = 40\n",
    "\n",
    "va = np.zeros((len(Rho), res))\n",
    "vas = np.zeros(repeat)\n",
    "errorbars = np.zeros_like(va)\n",
    "variance = np.zeros(repeat)\n",
    "for c,rho in enumerate(Rho):\n",
    "    for i,angle in enumerate(Angle):\n",
    "        for j in range(repeat):\n",
    "            f = birds.Flock(n=n, eta=eta, rho=rho, angle=angle)\n",
    "            for t in range(time):\n",
    "                f.run()\n",
    "            va_avg, vari = avg_with_error(f, averaging_time)\n",
    "            vas[j] = va_avg\n",
    "            variance[j] = vari\n",
    "        va[c][i] = vas.sum()/repeat\n",
    "        errorbars[c][i] = np.sqrt(variance.sum()/repeat)\n",
    "\n",
    "plt.figure()\n",
    "for c,rho in enumerate(Rho):\n",
    "    plt.errorbar(Angle/360*2*np.pi, va[c], yerr=errorbars[c], fmt='.', label=\"$\\\\rho$=\"+str(np.round(rho,decimals=4)))\n",
    "plt.xlabel(\"$\\\\theta_{cone}$\")\n",
    "plt.ylabel(\"$v_a$\")\n",
    "plt.legend()\n",
    "plt.title(\"Alignment dependance on angle\");\n",
    "\n",
    "plt.savefig(figpath+'va_over_angle.eps')"
   ]
  }
 ],
 "metadata": {
  "hide_input": false,
  "kernelspec": {
   "display_name": "Python 3",
   "language": "python",
   "name": "python3"
  },
  "language_info": {
   "codemirror_mode": {
    "name": "ipython",
    "version": 3
   },
   "file_extension": ".py",
   "mimetype": "text/x-python",
   "name": "python",
   "nbconvert_exporter": "python",
   "pygments_lexer": "ipython3",
   "version": "3.6.2"
  },
  "toc": {
   "colors": {
    "hover_highlight": "#DAA520",
    "running_highlight": "#FF0000",
    "selected_highlight": "#FFD700"
   },
   "moveMenuLeft": true,
   "nav_menu": {
    "height": "105px",
    "width": "252px"
   },
   "navigate_menu": true,
   "number_sections": true,
   "sideBar": true,
   "threshold": 4,
   "toc_cell": false,
   "toc_section_display": "block",
   "toc_window_display": false,
   "widenNotebook": false
  }
 },
 "nbformat": 4,
 "nbformat_minor": 2
}
