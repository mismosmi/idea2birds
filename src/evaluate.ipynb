{
 "cells": [
  {
   "cell_type": "markdown",
   "metadata": {
    "run_control": {
     "frozen": false,
     "read_only": false
    }
   },
   "source": [
    "# Bird Simulation Evaluation Script"
   ]
  },
  {
   "cell_type": "markdown",
   "metadata": {
    "run_control": {
     "frozen": false,
     "read_only": false
    }
   },
   "source": [
    "## Imports & Preparations"
   ]
  },
  {
   "cell_type": "code",
   "execution_count": 10,
   "metadata": {
    "collapsed": true,
    "run_control": {
     "frozen": false,
     "read_only": false
    }
   },
   "outputs": [],
   "source": [
    "import numpy as np\n",
    "import scipy as sp\n",
    "import birds\n",
    "import argparse\n",
    "import matplotlib.pyplot as plt\n",
    "from matplotlib.path import Path\n",
    "from matplotlib.animation import FuncAnimation\n",
    "from matplotlib.collections import PathCollection\n",
    "from IPython.display import HTML\n",
    "from scipy.optimize import curve_fit\n",
    "#%matplotlib ipympl\n",
    "%matplotlib inline\n",
    "%config InlineBackend.figure_format = 'retina'\n",
    "from matplotlib import rcParams\n",
    "rcParams.update({'figure.autolayout': True})"
   ]
  },
  {
   "cell_type": "markdown",
   "metadata": {
    "run_control": {
     "frozen": false,
     "read_only": false
    }
   },
   "source": [
    "## Figure output Settings"
   ]
  },
  {
   "cell_type": "code",
   "execution_count": 13,
   "metadata": {
    "collapsed": true,
    "run_control": {
     "frozen": false,
     "read_only": false
    }
   },
   "outputs": [],
   "source": [
    "figpath = '../img/'\n",
    "figwidth = 4 #figure width in inches\n",
    "figsize = (figwidth,figwidth*2.5/4)"
   ]
  },
  {
   "cell_type": "markdown",
   "metadata": {
    "run_control": {
     "frozen": false,
     "read_only": false
    }
   },
   "source": [
    "## Run with default Settings"
   ]
  },
  {
   "cell_type": "code",
   "execution_count": null,
   "metadata": {
    "collapsed": true,
    "run_control": {
     "frozen": false,
     "read_only": false
    },
    "scrolled": true
   },
   "outputs": [],
   "source": [
    "frames = 1000\n",
    "birds.param_record = False\n",
    "birds.trace = None\n",
    "birds.flock = birds.Flock()\n",
    "fig = plt.figure(figsize=(5, 5*birds.flock.args['height']/birds.flock.args['width']), facecolor=\"white\")\n",
    "ax = fig.add_axes([0.0, 0.0, 1.0, 1.0], aspect=1, frameon=False)\n",
    "birds.collection = birds.MarkerCollection(birds.flock.args['n'])\n",
    "ax.add_collection(birds.collection._collection)\n",
    "ax.set_xlim(0, birds.flock.args['width'])\n",
    "ax.set_ylim(0, birds.flock.args['height'])\n",
    "ax.set_xticks([])\n",
    "ax.set_yticks([])\n",
    "\n",
    "animation = FuncAnimation(fig, birds.update, interval=10, frames=frames)\n",
    "HTML(animation.to_html5_video())\n"
   ]
  },
  {
   "cell_type": "markdown",
   "metadata": {
    "run_control": {
     "frozen": false,
     "read_only": false
    }
   },
   "source": [
    "## Find moving phase"
   ]
  },
  {
   "cell_type": "markdown",
   "metadata": {
    "run_control": {
     "frozen": false,
     "read_only": false
    }
   },
   "source": [
    "## Run with varying Eta"
   ]
  },
  {
   "cell_type": "code",
   "execution_count": 12,
   "metadata": {
    "collapsed": true,
    "run_control": {
     "frozen": false,
     "read_only": false
    }
   },
   "outputs": [],
   "source": [
    "def avg_with_error(f, avg_time):\n",
    "    var = np.zeros(avg_time)\n",
    "    va_avg = 0\n",
    "    for t in range(avg_time):\n",
    "        va_tmp = f.get_va()\n",
    "        va_avg += va_tmp\n",
    "        var[t] = va_tmp\n",
    "        f.run()\n",
    "    va_avg /= avg_time\n",
    "    var = np.sum((var-va_avg)**2 / avg_time)\n",
    "    return va_avg, var"
   ]
  },
  {
   "cell_type": "code",
   "execution_count": null,
   "metadata": {
    "run_control": {
     "frozen": false,
     "read_only": false
    }
   },
   "outputs": [],
   "source": [
    "res = 30\n",
    "time = 1500\n",
    "averaging_time = 1000\n",
    "repeat = 3\n",
    "rho=0.4\n",
    "Eta = np.linspace(0.,7.,res)\n",
    "N = [50,100,400]\n",
    "        \n",
    "\n",
    "va = np.zeros((len(N),res))\n",
    "vas = np.zeros(repeat)\n",
    "errorbars = np.zeros_like(va)\n",
    "variance = np.zeros(repeat)\n",
    "for c,n in enumerate(N):\n",
    "    for i,eta in enumerate(Eta):\n",
    "        for j in range(repeat):\n",
    "            f = birds.Flock(n=n,eta=eta,rho=rho)\n",
    "            for t in range(time):\n",
    "                f.run()\n",
    "            va_avg, vari = avg_with_error(f, averaging_time)\n",
    "            vas[j] = va_avg\n",
    "            variance[j] = vari\n",
    "        va[c][i] = vas.sum()/repeat\n",
    "        errorbars[c][i] = np.sqrt(variance.sum()/repeat)\n",
    "        \n",
    "print('Has been run.')"
   ]
  },
  {
   "cell_type": "markdown",
   "metadata": {
    "run_control": {
     "frozen": false,
     "read_only": false
    }
   },
   "source": [
    "### Fit $\\eta_c$"
   ]
  },
  {
   "cell_type": "code",
   "execution_count": null,
   "metadata": {
    "run_control": {
     "frozen": false,
     "read_only": false
    }
   },
   "outputs": [],
   "source": [
    "# Initial square/lin fit to determinine p0-parameters\n",
    "def finvsquare(x, sqwidth):\n",
    "    return 1-(x*sqwidth)**2\n",
    "def flin(x, m, b):\n",
    "    return m*x+b\n",
    "\n",
    "# find array index of eta_c as first approx to split fit in linear- and phase-relation-parts\n",
    "vamin = np.argmin(va[0]) \n",
    "    \n",
    "# initial linear fit for better guess of eta_c\n",
    "linparams = sp.optimize.curve_fit(flin,Eta[vamin:len(Eta)],va[0][vamin:len(va[0])],p0=[0.2,-0.5],sigma=errorbars[0][vamin:len(errorbars[0])])\n",
    "valin = flin(Eta,*linparams[0])\n",
    "\n",
    "# set fit parameters for square/lin fit\n",
    "eta_c_ind = np.where(np.absolute(va[0] - valin) > prec)[0][-1]\n",
    "x = Eta[0:eta_c_ind]\n",
    "y = va[0][0:eta_c_ind]\n",
    "err = errorbars[0][0:eta_c_ind]\n",
    "\n",
    "# fit it with square + line\n",
    "sqwidth = sp.optimize.curve_fit(finvsquare,x,y,p0=1/6,sigma=err)\n",
    "linparams = sp.optimize.curve_fit(flin,Eta[eta_c_ind:len(Eta)],va[0][eta_c_ind:len(va[0])],p0=[0.2,-0.5],sigma=errorbars[0][eta_c_ind:len(errorbars[0])])\n",
    "\n",
    "# calculate second approx for eta_c from fit\n",
    "p,q = linparams[0][0]/sqwidth[0][0]**2,(linparams[0][1]-1)/sqwidth[0][0]**2\n",
    "eta_c_0 = -p/2 + np.sqrt((p/2)**2 - q)\n",
    "\n",
    "# recalculate fit parameters\n",
    "eta_c_ind = np.where(Eta < eta_c_0)[0][-1]\n",
    "x = Eta[0:eta_c_ind]\n",
    "y = va[0][0:eta_c_ind]\n",
    "err = errorbars[0][0:eta_c_ind]\n",
    "\n",
    "# fit beta\n",
    "xlog = np.log(eta_c_0-x)\n",
    "ylog = np.log(y)\n",
    "errlog = np.log(err)\n",
    "\n",
    "# logarithmic fit\n",
    "def fphase_temp_log(x, beta, offset):\n",
    "    return beta * x + offset\n",
    "tempparams = sp.optimize.curve_fit(fphase_temp_log,xlog,ylog,p0=[0.5,0],sigma=errlog)\n",
    "\n",
    "# final fit for eta_c and beta using former fits as start values\n",
    "def fphase(x, eta_c, beta, offset):\n",
    "    return (eta_c - x)**beta * np.e**offset\n",
    "def fphaselog(x, eta_c, beta, offset):\n",
    "    return np.log(eta_c - x)*beta + offset\n",
    "phaseparams = sp.optimize.curve_fit(fphaselog,x,ylog,p0=[eta_c_0,*tempparams[0]],sigma=errlog)"
   ]
  },
  {
   "cell_type": "markdown",
   "metadata": {
    "run_control": {
     "frozen": false,
     "read_only": false
    }
   },
   "source": [
    "### Plot $v_a$ over $\\eta$"
   ]
  },
  {
   "cell_type": "code",
   "execution_count": null,
   "metadata": {
    "run_control": {
     "frozen": false,
     "read_only": false
    }
   },
   "outputs": [],
   "source": [
    "plt.figure(figsize=figsize)\n",
    "for c,n in enumerate(N):\n",
    "    plt.errorbar(Eta, va[c], yerr=errorbars[c], fmt='.', label=\"N=\"+str(n))\n",
    "#x = np.linspace(Eta[0],Eta[-1])\n",
    "#xphase = x[np.where(phaseparams[0][0] > x)]\n",
    "#plt.plot(x,finvsquare(x,sqwidth[0]), label='Square Fit', linewidth=0.5)\n",
    "#plt.plot(xphase,fphase(xphase,*phaseparams[0]), label='Phase relation Fit')\n",
    "#plt.plot(x,flin(x,*linparams[0]), label='linear Fit', linewidth=0.5)\n",
    "\n",
    "plt.xlabel(\"$\\\\eta$\")\n",
    "plt.ylabel(\"$v_a$\")\n",
    "plt.xlim([0,5.5])\n",
    "plt.ylim([0,1])\n",
    "plt.legend()\n",
    "\n",
    "plt.savefig(figpath+'va_over_eta.eps')"
   ]
  },
  {
   "cell_type": "markdown",
   "metadata": {
    "run_control": {
     "frozen": false,
     "read_only": false
    }
   },
   "source": [
    "### Plot $v_a$ over $(\\eta_c - \\eta)/\\eta_c)$"
   ]
  },
  {
   "cell_type": "code",
   "execution_count": null,
   "metadata": {
    "run_control": {
     "frozen": false,
     "read_only": false
    },
    "scrolled": false
   },
   "outputs": [],
   "source": [
    "plt.figure(figsize=figsize)\n",
    "plt.ylim(ymin=0.2)\n",
    "plt.xlim(xmin=0.01)\n",
    "eta_c = 4.5  # This is a guess of the critical eta value. There must be a better way of determining it\n",
    "for c,n in enumerate(N):\n",
    "    plt.plot( (eta_c-Eta)/eta_c, va[c],'.',label=\"N=\"+str(n))\n",
    "ca = plt.gca()\n",
    "ca.set_xscale('log')\n",
    "ca.set_yscale('log')\n",
    "plt.xlabel(\"$\\\\frac{\\\\eta_c - \\\\eta}{\\\\eta_c}$\")\n",
    "plt.ylabel(\"$v_a$\")\n",
    "\n",
    "\n",
    "\n",
    "x = (eta_c-Eta)/eta_c\n",
    "select = x > 0\n",
    "x = np.log(x[select])\n",
    "y = np.log(va[-1][select])\n",
    "coef = np.polyfit(x,y,1)\n",
    "plt.plot(np.logspace(-1,0,10), np.logspace(-1,0,10)**coef[0], label=\"$\\\\beta=$\"+str(coef[0]))\n",
    "plt.legend();\n",
    "\n",
    "# if you come up with a better naming scheme PLEASE change this\n",
    "plt.savefig(figpath+'va_over_etac_minus_eta_over_etac.eps')\n",
    "print('eta_c='+str(eta_c))"
   ]
  },
  {
   "cell_type": "markdown",
   "metadata": {
    "run_control": {
     "frozen": false,
     "read_only": false
    }
   },
   "source": [
    "## Run with varying density"
   ]
  },
  {
   "cell_type": "code",
   "execution_count": 15,
   "metadata": {
    "run_control": {
     "frozen": false,
     "read_only": false
    }
   },
   "outputs": [],
   "source": [
    "res = 15\n",
    "time = 1000\n",
    "averaging_time = 500\n",
    "repeat = 5\n",
    "eta = .3\n",
    "Rho = np.logspace(-3,-0, res)\n",
    "N = [100]\n",
    "\n",
    "va = np.zeros((len(N), res))\n",
    "vas = np.zeros(repeat)\n",
    "errorbars = np.zeros_like(va)\n",
    "variance = np.zeros(repeat)\n",
    "for c,n in enumerate(N):\n",
    "    for i,rho in enumerate(Rho):\n",
    "        for j in range(repeat):\n",
    "            f = birds.Flock(n=n, eta=eta, rho=rho)\n",
    "            for t in range(time):\n",
    "                f.run()\n",
    "            va_avg, vari = avg_with_error(f, averaging_time)\n",
    "            vas[j] = va_avg\n",
    "            variance[j] = vari\n",
    "        va[c][i] = vas.sum()/repeat\n",
    "        errorbars[c][i] = np.sqrt(variance.sum()/repeat)\n"
   ]
  },
  {
   "cell_type": "code",
   "execution_count": 16,
   "metadata": {
    "run_control": {
     "frozen": false,
     "read_only": false
    }
   },
   "outputs": [
    {
     "name": "stderr",
     "output_type": "stream",
     "text": [
      "/usr/lib/python3.6/site-packages/matplotlib/figure.py:1999: UserWarning: This figure includes Axes that are not compatible with tight_layout, so results might be incorrect.\n",
      "  warnings.warn(\"This figure includes Axes that are not compatible \"\n"
     ]
    },
    {
     "data": {
      "image/png": "[encoded data removed]",
      "text/plain": [
       "<matplotlib.figure.Figure at 0x7f12a89a7978>"
      ]
     },
     "metadata": {
      "image/png": {
       "height": 172,
       "width": 280
      }
     },
     "output_type": "display_data"
    }
   ],
   "source": [
    "plt.figure(figsize=figsize)\n",
    "for c,n in enumerate(N):\n",
    "    plt.errorbar(Rho, va[c], yerr=errorbars[c], fmt='.', label=\"N=\"+str(n))\n",
    "\n",
    "plt.xlabel(\"$\\\\rho$\")\n",
    "plt.ylabel(\"$v_a$\")\n",
    "plt.legend()\n",
    "plt.title(\"Alignment dependance on density\");\n",
    "\n",
    "plt.savefig(figpath+'va_over_rho.eps')"
   ]
  },
  {
   "cell_type": "markdown",
   "metadata": {
    "run_control": {
     "frozen": false,
     "read_only": false
    }
   },
   "source": [
    "## Run with varying angle\n",
    "\n",
    "This has to be done for low rho and eta. This should be evident from the graphs above as a high value of eta reduces the alignment going to almost zero.\n",
    "\n",
    "A high density causes more alignment, and thus if we attempt running with higher densities, they all align anyway."
   ]
  },
  {
   "cell_type": "code",
   "execution_count": 9,
   "metadata": {
    "run_control": {
     "frozen": false,
     "read_only": false
    },
    "scrolled": true
   },
   "outputs": [
    {
     "data": {
      "image/png": "[encoded data removed]",
      "text/plain": [
       "<matplotlib.figure.Figure at 0x7f12a924def0>"
      ]
     },
     "metadata": {
      "image/png": {
       "height": 278,
       "width": 387
      }
     },
     "output_type": "display_data"
    }
   ],
   "source": [
    "res = 20\n",
    "time = 1000\n",
    "averaging_time = 1000\n",
    "repeat = 3\n",
    "eta = 0\n",
    "Angle = np.linspace(1,180,res,dtype=int)\n",
    "Rho= [0.01,0.1,1] # np.logspace(-3, 0, 5)\n",
    "n = 100\n",
    "\n",
    "va = np.zeros((len(Rho), res))\n",
    "vas = np.zeros(repeat)\n",
    "errorbars = np.zeros_like(va)\n",
    "variance = np.zeros(repeat)\n",
    "for c,rho in enumerate(Rho):\n",
    "    for i,angle in enumerate(Angle):\n",
    "        for j in range(repeat):\n",
    "            f = birds.Flock(n=n, eta=eta, rho=rho, angle=angle)\n",
    "            for t in range(time):\n",
    "                f.run()\n",
    "            va_avg, vari = avg_with_error(f, averaging_time)\n",
    "            vas[j] = va_avg\n",
    "            variance[j] = vari\n",
    "        va[c][i] = vas.sum()/repeat\n",
    "        errorbars[c][i] = np.sqrt(variance.sum()/repeat)\n",
    "\n",
    "plt.figure()\n",
    "for c,rho in enumerate(Rho):\n",
    "    plt.errorbar(Angle/360*2*np.pi, va[c], yerr=errorbars[c], fmt='.', label=\"$\\\\rho$=\"+str(np.round(rho,decimals=4)))\n",
    "plt.xlabel(\"$\\\\theta_{cone}$\")\n",
    "plt.ylabel(\"$v_a$\")\n",
    "plt.legend()\n",
    "plt.title(\"Alignment dependance on angle\");\n",
    "\n",
    "plt.savefig(figpath+'va_over_angle.eps')"
   ]
  },
  {
   "cell_type": "code",
   "execution_count": null,
   "metadata": {
    "collapsed": true
   },
   "outputs": [],
   "source": []
  }
 ],
 "metadata": {
  "hide_input": false,
  "kernelspec": {
   "display_name": "Python 3",
   "language": "python",
   "name": "python3"
  },
  "language_info": {
   "codemirror_mode": {
    "name": "ipython",
    "version": 3
   },
   "file_extension": ".py",
   "mimetype": "text/x-python",
   "name": "python",
   "nbconvert_exporter": "python",
   "pygments_lexer": "ipython3",
   "version": "3.6.3"
  },
  "toc": {
   "colors": {
    "hover_highlight": "#DAA520",
    "running_highlight": "#FF0000",
    "selected_highlight": "#FFD700"
   },
   "moveMenuLeft": true,
   "nav_menu": {
    "height": "105px",
    "width": "252px"
   },
   "navigate_menu": true,
   "number_sections": true,
   "sideBar": true,
   "threshold": 4,
   "toc_cell": false,
   "toc_section_display": "block",
   "toc_window_display": false,
   "widenNotebook": false
  }
 },
 "nbformat": 4,
 "nbformat_minor": 2
}
